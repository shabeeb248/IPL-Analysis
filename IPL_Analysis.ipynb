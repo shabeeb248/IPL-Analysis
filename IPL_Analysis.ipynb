{
  "nbformat": 4,
  "nbformat_minor": 0,
  "metadata": {
    "colab": {
      "name": "IPL Analysis.ipynb",
      "provenance": [],
      "collapsed_sections": [],
      "authorship_tag": "ABX9TyOsIC0eHctl8rCpfYNmZ1qk",
      "include_colab_link": true
    },
    "kernelspec": {
      "name": "python3",
      "display_name": "Python 3"
    },
    "language_info": {
      "name": "python"
    }
  },
  "cells": [
    {
      "cell_type": "markdown",
      "metadata": {
        "id": "view-in-github",
        "colab_type": "text"
      },
      "source": [
        "<a href=\"https://colab.research.google.com/github/shabeeb248/IPL-Analysis/blob/main/IPL_Analysis.ipynb\" target=\"_parent\"><img src=\"https://colab.research.google.com/assets/colab-badge.svg\" alt=\"Open In Colab\"/></a>"
      ]
    },
    {
      "cell_type": "code",
      "execution_count": null,
      "metadata": {
        "colab": {
          "base_uri": "https://localhost:8080/"
        },
        "id": "W-VD2RuL6y8O",
        "outputId": "53493d5d-8db3-4278-debe-87d6b92c17d8"
      },
      "outputs": [
        {
          "output_type": "stream",
          "name": "stdout",
          "text": [
            "Requirement already satisfied: plotly in /usr/local/lib/python3.7/dist-packages (5.5.0)\n",
            "Requirement already satisfied: tenacity>=6.2.0 in /usr/local/lib/python3.7/dist-packages (from plotly) (8.0.1)\n",
            "Requirement already satisfied: six in /usr/local/lib/python3.7/dist-packages (from plotly) (1.15.0)\n"
          ]
        }
      ],
      "source": [
        "! pip install plotly"
      ]
    },
    {
      "cell_type": "code",
      "source": [
        "! pip install jupyter-dash -q"
      ],
      "metadata": {
        "id": "sWbImpAT-Wsg",
        "colab": {
          "base_uri": "https://localhost:8080/"
        },
        "outputId": "53311095-fc41-401d-ffdc-a3f3a36d67e6"
      },
      "execution_count": null,
      "outputs": [
        {
          "output_type": "stream",
          "name": "stdout",
          "text": [
            "\u001b[K     |████████████████████████████████| 8.5 MB 33.1 MB/s \n",
            "\u001b[K     |████████████████████████████████| 357 kB 48.3 MB/s \n",
            "\u001b[?25h  Building wheel for retrying (setup.py) ... \u001b[?25l\u001b[?25hdone\n"
          ]
        }
      ]
    },
    {
      "cell_type": "code",
      "source": [
        "\n",
        "!pip install dash==2.2.0"
      ],
      "metadata": {
        "colab": {
          "base_uri": "https://localhost:8080/"
        },
        "id": "dxLWTflC-her",
        "outputId": "880ea16a-dfc5-4638-b045-bd040e542d97"
      },
      "execution_count": null,
      "outputs": [
        {
          "output_type": "stream",
          "name": "stdout",
          "text": [
            "Requirement already satisfied: dash==2.2.0 in /usr/local/lib/python3.7/dist-packages (2.2.0)\n",
            "Requirement already satisfied: Flask>=1.0.4 in /usr/local/lib/python3.7/dist-packages (from dash==2.2.0) (1.1.4)\n",
            "Requirement already satisfied: dash-core-components==2.0.0 in /usr/local/lib/python3.7/dist-packages (from dash==2.2.0) (2.0.0)\n",
            "Requirement already satisfied: flask-compress in /usr/local/lib/python3.7/dist-packages (from dash==2.2.0) (1.11)\n",
            "Requirement already satisfied: dash-html-components==2.0.0 in /usr/local/lib/python3.7/dist-packages (from dash==2.2.0) (2.0.0)\n",
            "Requirement already satisfied: plotly>=5.0.0 in /usr/local/lib/python3.7/dist-packages (from dash==2.2.0) (5.5.0)\n",
            "Requirement already satisfied: dash-table==5.0.0 in /usr/local/lib/python3.7/dist-packages (from dash==2.2.0) (5.0.0)\n",
            "Requirement already satisfied: itsdangerous<2.0,>=0.24 in /usr/local/lib/python3.7/dist-packages (from Flask>=1.0.4->dash==2.2.0) (1.1.0)\n",
            "Requirement already satisfied: click<8.0,>=5.1 in /usr/local/lib/python3.7/dist-packages (from Flask>=1.0.4->dash==2.2.0) (7.1.2)\n",
            "Requirement already satisfied: Jinja2<3.0,>=2.10.1 in /usr/local/lib/python3.7/dist-packages (from Flask>=1.0.4->dash==2.2.0) (2.11.3)\n",
            "Requirement already satisfied: Werkzeug<2.0,>=0.15 in /usr/local/lib/python3.7/dist-packages (from Flask>=1.0.4->dash==2.2.0) (1.0.1)\n",
            "Requirement already satisfied: MarkupSafe>=0.23 in /usr/local/lib/python3.7/dist-packages (from Jinja2<3.0,>=2.10.1->Flask>=1.0.4->dash==2.2.0) (2.0.1)\n",
            "Requirement already satisfied: six in /usr/local/lib/python3.7/dist-packages (from plotly>=5.0.0->dash==2.2.0) (1.15.0)\n",
            "Requirement already satisfied: tenacity>=6.2.0 in /usr/local/lib/python3.7/dist-packages (from plotly>=5.0.0->dash==2.2.0) (8.0.1)\n",
            "Requirement already satisfied: brotli in /usr/local/lib/python3.7/dist-packages (from flask-compress->dash==2.2.0) (1.0.9)\n"
          ]
        }
      ]
    },
    {
      "cell_type": "code",
      "source": [
        "from jupyter_dash import JupyterDash\n",
        "import pandas as pd\n",
        "import plotly.express as px\n",
        "import dash\n",
        "import dash_core_components as dcc\n",
        "import dash_html_components as html\n",
        "from dash.dependencies import Input, Output\n",
        "import numpy as np\n",
        "import plotly.graph_objects as go\n",
        "from collections import Counter\n",
        "\n",
        "\n",
        "app = JupyterDash(__name__)\n",
        "server = app.server\n",
        "\n",
        "df = pd.read_csv('https://raw.githubusercontent.com/shabeeb248/datas/main/ipl.csv')\n",
        "\n",
        "\n",
        "\n",
        "app.layout = html.Div(children=[\n",
        "    html.Div(\n",
        "        children=[\n",
        "                  html.Img(src=\"https://upload.wikimedia.org/wikipedia/en/thumb/2/2b/Chennai_Super_Kings_Logo.svg/245px-Chennai_Super_Kings_Logo.svg.png\",alt=\"IPL\", style={'display': 'inline-block','width':'150px','margin-right':'20px'}),\n",
        "        \n",
        "        html.Img(src=\"https://upload.wikimedia.org/wikipedia/en/thumb/c/cd/Mumbai_Indians_Logo.svg/230px-Mumbai_Indians_Logo.svg.png\", style={'display': 'inline-block','width':'150px','height':'150px','margin-left':'20px'}),\n",
        "        html.Img(src=\"https://upload.wikimedia.org/wikipedia/en/thumb/4/4c/Kolkata_Knight_Riders_Logo.svg/175px-Kolkata_Knight_Riders_Logo.svg.png\", style={'display': 'inline-block','width':'120px','height':'150px','margin-left':'20px'}),\n",
        "        html.Img(src=\"https://upload.wikimedia.org/wikipedia/en/thumb/2/2a/Royal_Challengers_Bangalore_2020.svg/160px-Royal_Challengers_Bangalore_2020.svg.png\", style={'display': 'inline-block','width':'150px','height':'150px','margin-left':'20px'}),\n",
        "        html.Img(src=\"https://upload.wikimedia.org/wikipedia/en/1/1c/Punjab_Kings_logo_2021.png\", style={'display': 'inline-block','width':'150px','height':'150px','margin-left':'20px'}),\n",
        "        html.Img(src=\"https://upload.wikimedia.org/wikipedia/en/thumb/8/81/Sunrisers_Hyderabad.svg/250px-Sunrisers_Hyderabad.svg.png\", style={'display': 'inline-block','width':'150px','margin-left':'20px'}),\n",
        "        html.Img(src=\"https://www.pngall.com/wp-content/uploads/2017/04/Rajasthan-Royals-Logo-PNG.png\", style={'display': 'inline-block','width':'150px','margin-left':'20px'}),\n",
        "        \n",
        "\n",
        "        \n",
        "        ],style={'text-align': 'center','backgroundColor':'black'}\n",
        "            ),\n",
        "            html.H1(children='IPL Data Analysis', style={'text-align': 'center','color': 'black', 'fontSize': 45}),\n",
        "    html.Div(children='2007-2018', style={'text-align': 'center','color': 'black', 'fontSize': 28}),\n",
        "     \n",
        "    html.Div([\n",
        "\n",
        "          html.Div([\n",
        "                    html.Label(['Choose a team:'],style={'font-weight': 'bold'}),\n",
        "            dcc.Dropdown(\n",
        "                np.append(df['winner'].unique(),\"All teams\"),\n",
        "                id='team',\n",
        "                value=\"All teams\"\n",
        "            )\n",
        "            \n",
        "        ], style={'width': '48%', 'display': 'inline-block', 'fontSize': 24}),\n",
        "\n",
        "        html.Div([\n",
        "                   html.Label(['Choose a season:'],style={'font-weight': 'bold'}),\n",
        "                    dcc.Dropdown(\n",
        "                        np.append(df['year'].unique(),\"All season\"),\n",
        "                        value=\"All season\",\n",
        "                        id=\"season-year\",\n",
        "                    ),\n",
        "            \n",
        "        ], style={'width': '48%', 'float': 'right', 'display': 'inline-block','fontSize': 24})\n",
        "    ]),\n",
        "    html.Div(dcc.Graph(id='graph-1')), \n",
        "    html.Div(dcc.Graph(id='graph-2')), \n",
        "    html.Div(dcc.Graph(id='graph-3')),\n",
        "    html.Div(dcc.Graph(id='graph-4')),\n",
        "\n",
        "    \n",
        "])\n",
        "\n",
        "@app.callback(\n",
        "    [\n",
        "    Output('graph-1', 'figure'),\n",
        "    Output('graph-2', 'figure'),\n",
        "    Output('graph-3', 'figure'),\n",
        "    Output('graph-4', 'figure')\n",
        "    ],\n",
        "    Input(component_id='team', component_property='value'),\n",
        "    Input(component_id='season-year', component_property='value')\n",
        "    )\n",
        "def update_figure(team,selected_year):\n",
        "    \n",
        "\n",
        "    if (team=='All teams' and selected_year=='All season'):\n",
        "      df2=df.player_of_match.value_counts().reset_index().rename(\n",
        "           columns={'index': 'player', 0: 'Man_Of_The_Match'})\n",
        "      \n",
        "\n",
        "      fig1 = px.histogram(df, x=\"winner\",text_auto=True).update_xaxes(categoryorder=\"total descending\")\n",
        "      fig1.update_layout( height=500,title={'text': \"Best Team based on wins\",'y':0.95,'x':0.5,'xanchor': 'center','yanchor': 'top'},title_font_size=30,font_family=\"Courier New\",\n",
        "                                font_color=\"white\",title_font_family=\"Times New Roman\",title_font_color=\"white\",legend_title_font_color=\"green\")\n",
        "      fig1.update_layout(template=\"plotly_dark\")\n",
        "\n",
        "\n",
        "      fig2 = px.histogram(df2.head(15), x=\"player\",y=\"player_of_match\",nbins=50,text_auto=True).update_xaxes(categoryorder=\"total descending\")\n",
        "      fig2.update_layout( height=500,title={'text': \"Best Player based on player of matches\",'y':0.95,'x':0.5,'xanchor': 'center','yanchor': 'top'},title_font_size=30,font_family=\"Courier New\",\n",
        "                                font_color=\"white\",title_font_family=\"Times New Roman\",title_font_color=\"white\",legend_title_font_color=\"green\")\n",
        "\n",
        "      fig2.update_layout(template=\"plotly_dark\")\n",
        "\n",
        "\n",
        "\n",
        "      fig3 = px.histogram(df, x=\"winner\",y='win_by_runs',nbins=50,text_auto=True).update_xaxes(categoryorder=\"total descending\")\n",
        "      fig3.update_layout( height=500,title={'text': \"Teams Ranked On Total winning Runs\",'y':0.95,'x':0.5,'xanchor': 'center','yanchor': 'top'},title_font_size=30,font_family=\"Courier New\",\n",
        "                                font_color=\"white\",title_font_family=\"Times New Roman\",title_font_color=\"white\",legend_title_font_color=\"green\")\n",
        "\n",
        "\n",
        "      fig3.update_layout(template=\"plotly_dark\")\n",
        "\n",
        "\n",
        "      fig4 = px.histogram(df, x=\"venue\",nbins=50,text_auto=True).update_xaxes(categoryorder=\"total descending\")\n",
        "      fig4.update_layout( height=800,title={'text': \"Best Winning Venues\",'y':0.95,'x':0.5,'xanchor': 'center','yanchor': 'top'},title_font_size=30,font_family=\"Courier New\",\n",
        "                                font_color=\"white\",title_font_family=\"Times New Roman\",title_font_color=\"white\",legend_title_font_color=\"green\")\n",
        "\n",
        "\n",
        "      fig4.update_layout(template=\"plotly_dark\")\n",
        "      \n",
        "    elif(team=='All teams' and selected_year!='All season'):\n",
        "      newdf = df[df.year == int(selected_year)]\n",
        "      df5=newdf.player_of_match.value_counts().reset_index().rename(\n",
        "           columns={'index': 'player', 0: 'Man_Of_The_Match'})\n",
        "      \n",
        "      fig1 = px.histogram(newdf, x=\"winner\",text_auto=True).update_xaxes(categoryorder=\"total descending\")\n",
        "      fig1.update_layout( height=500,title={'text': \"Top teams Based on wins\",'y':0.95,'x':0.5,'xanchor': 'center','yanchor': 'top'},title_font_size=30,font_family=\"Courier New\",\n",
        "                                font_color=\"white\",title_font_family=\"Times New Roman\",title_font_color=\"white\",legend_title_font_color=\"green\")\n",
        "      fig1.update_layout(template=\"plotly_dark\")\n",
        "\n",
        "      fig2 = px.histogram(df5.head(15), x=\"player\",y=\"player_of_match\",nbins=50,text_auto=True).update_xaxes(categoryorder=\"total descending\")\n",
        "      fig2.update_layout( height=500,title={'text': \"Best player based on player of the match award\",'y':0.95,'x':0.5,'xanchor': 'center','yanchor': 'top'},title_font_size=30,font_family=\"Courier New\",\n",
        "                                font_color=\"white\",title_font_family=\"Times New Roman\",title_font_color=\"white\",legend_title_font_color=\"green\")\n",
        "      fig2.update_layout(template=\"plotly_dark\")\n",
        "\n",
        "      fig3 = px.histogram(newdf, x=\"winner\",y=\"win_by_runs\",nbins=50,text_auto=True).update_xaxes(categoryorder=\"total descending\")\n",
        "      fig3.update_layout( height=500,title={'text': \"Top team Based on winning runs\",'y':0.95,'x':0.5,'xanchor': 'center','yanchor': 'top'},title_font_size=30,font_family=\"Courier New\",\n",
        "                                font_color=\"white\",title_font_family=\"Times New Roman\",title_font_color=\"white\",legend_title_font_color=\"green\")\n",
        "      fig3.update_layout(template=\"plotly_dark\")\n",
        "\n",
        "      fig4 = px.histogram(newdf, x=\"venue\",nbins=50,text_auto=True).update_xaxes(categoryorder=\"total descending\")\n",
        "      fig4.update_layout( height=500,title={'text': \"Best Winning Venues\",'y':0.95,'x':0.5,'xanchor': 'center','yanchor': 'top'},title_font_size=30,font_family=\"Courier New\",\n",
        "                                font_color=\"white\",title_font_family=\"Times New Roman\",title_font_color=\"white\",legend_title_font_color=\"green\")\n",
        "      fig4.update_layout(template=\"plotly_dark\")\n",
        "\n",
        "    elif(team!='All teams' and selected_year=='All season'):\n",
        "\n",
        "      newdf1 =df[df.winner == team]\n",
        "      newdf2 = df[(df[\"team1\"]==team) | (df[\"team2\"]==team)]\n",
        "      total_match=len(newdf2)\n",
        "      winning_match=len(newdf1)\n",
        "      lab = ['lose','win']\n",
        "      val = [total_match-winning_match, winning_match]\n",
        "      df6=newdf1.player_of_match.value_counts().reset_index().rename(\n",
        "           columns={'index': 'player', 0: 'Man_Of_The_Match'})\n",
        "      \n",
        "    \n",
        "      filtered_df1 =df[df.winner == team]\n",
        "      toss_win_count = df[df.toss_winner==team][\"winner\"].count()\n",
        "      win_and_toss_win_df = df[df.toss_winner==team]\n",
        "      win_and_toss_count = win_and_toss_win_df[df.winner==team][\"winner\"].count()\n",
        "      toss_not_win =  toss_win_count-win_and_toss_count\n",
        "      \n",
        "      values2 = [toss_win_count,toss_not_win] \n",
        "      labels2 = [\"Won After Toss\",\"Lose After Toss\"]\n",
        "    \n",
        "\n",
        "      fig1=go.Figure(data=[go.Pie(labels=lab, values=val)])\n",
        "      fig1.update_layout( height=500,title={'text': \"Win VS Lose\",'y':0.95,'x':0.5,'xanchor': 'center','yanchor': 'top'},title_font_size=30,font_family=\"Courier New\",\n",
        "                                font_color=\"white\",title_font_family=\"Times New Roman\",title_font_color=\"white\",legend_title_font_color=\"green\")\n",
        "      fig1.update_layout(template=\"plotly_dark\")\n",
        "     \n",
        "      fig2 = px.histogram(df6.head(15), x=\"player\",y=\"player_of_match\",nbins=50,text_auto=True).update_xaxes(categoryorder=\"total descending\")\n",
        "      fig2.update_layout( height=500,title={'text': \"Best player based on player of the match award\",'y':0.95,'x':0.5,'xanchor': 'center','yanchor': 'top'},title_font_size=30,font_family=\"Courier New\",\n",
        "                                font_color=\"white\",title_font_family=\"Times New Roman\",title_font_color=\"white\",legend_title_font_color=\"green\")\n",
        "      fig2.update_layout(template=\"plotly_dark\")\n",
        "\n",
        "      \n",
        "      fig3=go.Figure(data=[go.Pie(labels=labels2, values=values2)])\n",
        "      fig3.update_layout( height=500,title={'text': \"Won after toss VS Lost after toss\",'y':0.95,'x':0.5,'xanchor': 'center','yanchor': 'top'},title_font_size=30,font_family=\"Courier New\",\n",
        "                               font_color=\"white\",title_font_family=\"Times New Roman\",title_font_color=\"white\",legend_title_font_color=\"green\")\n",
        "      fig3.update_layout(template=\"plotly_dark\")\n",
        "\n",
        "      fig4 = px.histogram(newdf1, x=\"venue\",nbins=50,text_auto=True).update_xaxes(categoryorder=\"total descending\")\n",
        "      fig4.update_layout( height=800,title={'text': \"Best Winning Venues\",'y':0.95,'x':0.5,'xanchor': 'center','yanchor': 'top'},title_font_size=30,font_family=\"Courier New\",\n",
        "                               font_color=\"white\",title_font_family=\"Times New Roman\",title_font_color=\"white\",legend_title_font_color=\"green\")\n",
        "      fig4.update_layout(template=\"plotly_dark\")\n",
        "\n",
        "    else:\n",
        "      filtered_df = df[df.year == int(selected_year)]\n",
        "      filtered_df1 = filtered_df[df.winner == team]\n",
        "      toss_win_count = filtered_df[df.toss_winner==team][\"winner\"].count()\n",
        "      win_and_toss_win_df = filtered_df[df.toss_winner==team]\n",
        "      win_and_toss_count = win_and_toss_win_df[filtered_df.winner==team][\"winner\"].count()\n",
        "      toss_not_win =  toss_win_count-win_and_toss_count\n",
        "      values1 = [filtered_df1[\"win_by_runs\"].sum(),filtered_df1[\"win_by_wickets\"].sum()]\n",
        "      labels1 = [\"win_by_runs\",\"win_by_wickets\"]\n",
        "      values2 = [toss_win_count,toss_not_win] \n",
        "      labels2 = [\"Won After Toss\",\"Lose After Toss\"]\n",
        "\n",
        "      fig1 = go.Figure(data=[go.Pie(labels=labels1, values=values1)])\n",
        "      fig1.update_layout( height=500,title={'text': \"Win by Runs VS Win by Wickets\",'y':0.95,'x':0.5,'xanchor': 'center','yanchor': 'top'},title_font_size=30,font_family=\"Courier New\",\n",
        "                                font_color=\"white\",title_font_family=\"Times New Roman\",title_font_color=\"white\",legend_title_font_color=\"green\")\n",
        "      fig1.update_layout(template=\"plotly_dark\")\n",
        "\n",
        "\n",
        "      fig2 = go.Figure(data=[go.Pie(labels=labels2, values=values2)])\n",
        "      fig2.update_layout( height=500,title={'text': \"Won after toss VS Lost after toss\",'y':0.95,'x':0.5,'xanchor': 'center','yanchor': 'top'},title_font_size=30,font_family=\"Courier New\",\n",
        "                                font_color=\"white\",title_font_family=\"Times New Roman\",title_font_color=\"white\",legend_title_font_color=\"green\")\n",
        "      fig2.update_layout(template=\"plotly_dark\")\n",
        "\n",
        "\n",
        "      fig3 = px.histogram(filtered_df1, x=\"venue\",nbins=50,text_auto=True).update_xaxes(categoryorder=\"total descending\")\n",
        "      fig3.update_layout( height=500,title={'text': \"Best Winning Venues\",'y':0.95,'x':0.5,'xanchor': 'center','yanchor': 'top'},title_font_size=30,font_family=\"Courier New\",\n",
        "                                font_color=\"white\",title_font_family=\"Times New Roman\",title_font_color=\"white\",legend_title_font_color=\"green\")\n",
        "      fig3.update_layout(template=\"plotly_dark\")\n",
        "\n",
        "      fig4 = px.histogram(filtered_df1, x=\"player_of_match\",nbins=50,text_auto=True).update_xaxes(categoryorder=\"total descending\")\n",
        "      fig4.update_layout( height=500,title={'text': \"Best player based on player of the match award\",'y':0.95,'x':0.5,'xanchor': 'center','yanchor': 'top'},title_font_size=30,font_family=\"Courier New\",\n",
        "                                font_color=\"white\",title_font_family=\"Times New Roman\",title_font_color=\"white\",legend_title_font_color=\"green\")\n",
        "      fig4.update_layout(template=\"plotly_dark\")\n",
        "      \n",
        "    return fig1,fig2,fig3,fig4\n",
        "\n",
        "\n",
        "if __name__ == '__main__':\n",
        "    app.run_server(debug=True)"
      ],
      "metadata": {
        "colab": {
          "base_uri": "https://localhost:8080/",
          "height": 199
        },
        "id": "H8htWzcTmF_z",
        "outputId": "c0a0a4d0-43c4-46ef-ff86-d7d07bbbd444"
      },
      "execution_count": null,
      "outputs": [
        {
          "output_type": "stream",
          "name": "stdout",
          "text": [
            "Dash app running on:\n"
          ]
        },
        {
          "output_type": "stream",
          "name": "stderr",
          "text": [
            "/usr/local/lib/python3.7/dist-packages/ipykernel_launcher.py:5: UserWarning: \n",
            "The dash_core_components package is deprecated. Please replace\n",
            "`import dash_core_components as dcc` with `from dash import dcc`\n",
            "  \"\"\"\n",
            "/usr/local/lib/python3.7/dist-packages/ipykernel_launcher.py:6: UserWarning: \n",
            "The dash_html_components package is deprecated. Please replace\n",
            "`import dash_html_components as html` with `from dash import html`\n",
            "  \n"
          ]
        },
        {
          "output_type": "display_data",
          "data": {
            "application/javascript": [
              "(async (port, path, text, element) => {\n",
              "    if (!google.colab.kernel.accessAllowed) {\n",
              "      return;\n",
              "    }\n",
              "    element.appendChild(document.createTextNode(''));\n",
              "    const url = await google.colab.kernel.proxyPort(port);\n",
              "    const anchor = document.createElement('a');\n",
              "    anchor.href = new URL(path, url).toString();\n",
              "    anchor.target = '_blank';\n",
              "    anchor.setAttribute('data-href', url + path);\n",
              "    anchor.textContent = text;\n",
              "    element.appendChild(anchor);\n",
              "  })(8050, \"/\", \"http://127.0.0.1:8050/\", window.element)"
            ],
            "text/plain": [
              "<IPython.core.display.Javascript object>"
            ]
          },
          "metadata": {}
        }
      ]
    }
  ]
}